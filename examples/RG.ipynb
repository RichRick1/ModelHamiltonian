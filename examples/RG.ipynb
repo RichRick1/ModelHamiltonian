{
 "cells": [
  {
   "cell_type": "markdown",
   "metadata": {},
   "source": [
    "# Tutorial for the Richardson-Gaudin model"
   ]
  },
  {
   "cell_type": "code",
   "execution_count": 1,
   "metadata": {},
   "outputs": [
    {
     "ename": "KeyboardInterrupt",
     "evalue": "",
     "output_type": "error",
     "traceback": [
      "\u001b[0;31m---------------------------------------------------------------------------\u001b[0m",
      "\u001b[0;31mKeyboardInterrupt\u001b[0m                         Traceback (most recent call last)",
      "\u001b[0;32m/var/folders/gf/7vfqp7nn2972hrcz727tkjkh0000gn/T/ipykernel_89645/2643738340.py\u001b[0m in \u001b[0;36m<module>\u001b[0;34m\u001b[0m\n\u001b[1;32m      1\u001b[0m \u001b[0;32mimport\u001b[0m \u001b[0mnumpy\u001b[0m \u001b[0;32mas\u001b[0m \u001b[0mnp\u001b[0m\u001b[0;34m\u001b[0m\u001b[0;34m\u001b[0m\u001b[0m\n\u001b[1;32m      2\u001b[0m \u001b[0;32mfrom\u001b[0m \u001b[0mmoha\u001b[0m\u001b[0;34m.\u001b[0m\u001b[0mhamiltonians\u001b[0m \u001b[0;32mimport\u001b[0m \u001b[0mHamRG\u001b[0m\u001b[0;34m,\u001b[0m \u001b[0mHamHeisenberg\u001b[0m\u001b[0;34m\u001b[0m\u001b[0;34m\u001b[0m\u001b[0m\n\u001b[0;32m----> 3\u001b[0;31m \u001b[0;32mfrom\u001b[0m \u001b[0mpyscf\u001b[0m \u001b[0;32mimport\u001b[0m \u001b[0mfci\u001b[0m\u001b[0;34m\u001b[0m\u001b[0;34m\u001b[0m\u001b[0m\n\u001b[0m\u001b[1;32m      4\u001b[0m \u001b[0;34m\u001b[0m\u001b[0m\n\u001b[1;32m      5\u001b[0m \u001b[0;31m# Define the connectivity matrix\u001b[0m\u001b[0;34m\u001b[0m\u001b[0;34m\u001b[0m\u001b[0m\n",
      "\u001b[0;32m/opt/anaconda3/lib/python3.9/site-packages/pyscf/__init__.py\u001b[0m in \u001b[0;36m<module>\u001b[0;34m\u001b[0m\n\u001b[1;32m     97\u001b[0m \u001b[0;32mfrom\u001b[0m \u001b[0mpyscf\u001b[0m \u001b[0;32mimport\u001b[0m \u001b[0mlib\u001b[0m\u001b[0;34m\u001b[0m\u001b[0;34m\u001b[0m\u001b[0m\n\u001b[1;32m     98\u001b[0m \u001b[0;32mfrom\u001b[0m \u001b[0mpyscf\u001b[0m \u001b[0;32mimport\u001b[0m \u001b[0mgto\u001b[0m\u001b[0;34m\u001b[0m\u001b[0;34m\u001b[0m\u001b[0m\n\u001b[0;32m---> 99\u001b[0;31m \u001b[0;32mfrom\u001b[0m \u001b[0mpyscf\u001b[0m \u001b[0;32mimport\u001b[0m \u001b[0mscf\u001b[0m\u001b[0;34m\u001b[0m\u001b[0;34m\u001b[0m\u001b[0m\n\u001b[0m\u001b[1;32m    100\u001b[0m \u001b[0;32mfrom\u001b[0m \u001b[0mpyscf\u001b[0m \u001b[0;32mimport\u001b[0m \u001b[0mao2mo\u001b[0m\u001b[0;34m\u001b[0m\u001b[0;34m\u001b[0m\u001b[0m\n\u001b[1;32m    101\u001b[0m \u001b[0;34m\u001b[0m\u001b[0m\n",
      "\u001b[0;32m/opt/anaconda3/lib/python3.9/site-packages/pyscf/scf/__init__.py\u001b[0m in \u001b[0;36m<module>\u001b[0;34m\u001b[0m\n\u001b[1;32m    103\u001b[0m \u001b[0;34m\u001b[0m\u001b[0m\n\u001b[1;32m    104\u001b[0m \u001b[0;32mfrom\u001b[0m \u001b[0mpyscf\u001b[0m \u001b[0;32mimport\u001b[0m \u001b[0mgto\u001b[0m\u001b[0;34m\u001b[0m\u001b[0;34m\u001b[0m\u001b[0m\n\u001b[0;32m--> 105\u001b[0;31m \u001b[0;32mfrom\u001b[0m \u001b[0mpyscf\u001b[0m\u001b[0;34m.\u001b[0m\u001b[0mscf\u001b[0m \u001b[0;32mimport\u001b[0m \u001b[0mhf\u001b[0m\u001b[0;34m\u001b[0m\u001b[0;34m\u001b[0m\u001b[0m\n\u001b[0m\u001b[1;32m    106\u001b[0m \u001b[0mrhf\u001b[0m \u001b[0;34m=\u001b[0m \u001b[0mhf\u001b[0m\u001b[0;34m\u001b[0m\u001b[0;34m\u001b[0m\u001b[0m\n\u001b[1;32m    107\u001b[0m \u001b[0;32mfrom\u001b[0m \u001b[0mpyscf\u001b[0m\u001b[0;34m.\u001b[0m\u001b[0mscf\u001b[0m \u001b[0;32mimport\u001b[0m \u001b[0mrohf\u001b[0m\u001b[0;34m\u001b[0m\u001b[0;34m\u001b[0m\u001b[0m\n",
      "\u001b[0;32m/opt/anaconda3/lib/python3.9/site-packages/pyscf/scf/hf.py\u001b[0m in \u001b[0;36m<module>\u001b[0;34m\u001b[0m\n\u001b[1;32m     31\u001b[0m \u001b[0;32mfrom\u001b[0m \u001b[0mpyscf\u001b[0m \u001b[0;32mimport\u001b[0m \u001b[0mlib\u001b[0m\u001b[0;34m\u001b[0m\u001b[0;34m\u001b[0m\u001b[0m\n\u001b[1;32m     32\u001b[0m \u001b[0;32mfrom\u001b[0m \u001b[0mpyscf\u001b[0m\u001b[0;34m.\u001b[0m\u001b[0mlib\u001b[0m \u001b[0;32mimport\u001b[0m \u001b[0mlogger\u001b[0m\u001b[0;34m\u001b[0m\u001b[0;34m\u001b[0m\u001b[0m\n\u001b[0;32m---> 33\u001b[0;31m \u001b[0;32mfrom\u001b[0m \u001b[0mpyscf\u001b[0m\u001b[0;34m.\u001b[0m\u001b[0mscf\u001b[0m \u001b[0;32mimport\u001b[0m \u001b[0mdiis\u001b[0m\u001b[0;34m\u001b[0m\u001b[0;34m\u001b[0m\u001b[0m\n\u001b[0m\u001b[1;32m     34\u001b[0m \u001b[0;32mfrom\u001b[0m \u001b[0mpyscf\u001b[0m\u001b[0;34m.\u001b[0m\u001b[0mscf\u001b[0m \u001b[0;32mimport\u001b[0m \u001b[0m_vhf\u001b[0m\u001b[0;34m\u001b[0m\u001b[0;34m\u001b[0m\u001b[0m\n\u001b[1;32m     35\u001b[0m \u001b[0;32mfrom\u001b[0m \u001b[0mpyscf\u001b[0m\u001b[0;34m.\u001b[0m\u001b[0mscf\u001b[0m \u001b[0;32mimport\u001b[0m \u001b[0mchkfile\u001b[0m\u001b[0;34m\u001b[0m\u001b[0;34m\u001b[0m\u001b[0m\n",
      "\u001b[0;32m/opt/anaconda3/lib/python3.9/site-packages/pyscf/scf/diis.py\u001b[0m in \u001b[0;36m<module>\u001b[0;34m\u001b[0m\n\u001b[1;32m     24\u001b[0m \u001b[0;32mimport\u001b[0m \u001b[0mnumpy\u001b[0m\u001b[0;34m\u001b[0m\u001b[0;34m\u001b[0m\u001b[0m\n\u001b[1;32m     25\u001b[0m \u001b[0;32mimport\u001b[0m \u001b[0mscipy\u001b[0m\u001b[0;34m.\u001b[0m\u001b[0mlinalg\u001b[0m\u001b[0;34m\u001b[0m\u001b[0;34m\u001b[0m\u001b[0m\n\u001b[0;32m---> 26\u001b[0;31m \u001b[0;32mimport\u001b[0m \u001b[0mscipy\u001b[0m\u001b[0;34m.\u001b[0m\u001b[0moptimize\u001b[0m\u001b[0;34m\u001b[0m\u001b[0;34m\u001b[0m\u001b[0m\n\u001b[0m\u001b[1;32m     27\u001b[0m \u001b[0;32mfrom\u001b[0m \u001b[0mpyscf\u001b[0m \u001b[0;32mimport\u001b[0m \u001b[0mlib\u001b[0m\u001b[0;34m\u001b[0m\u001b[0;34m\u001b[0m\u001b[0m\n\u001b[1;32m     28\u001b[0m \u001b[0;32mfrom\u001b[0m \u001b[0mpyscf\u001b[0m\u001b[0;34m.\u001b[0m\u001b[0mlib\u001b[0m \u001b[0;32mimport\u001b[0m \u001b[0mlogger\u001b[0m\u001b[0;34m\u001b[0m\u001b[0;34m\u001b[0m\u001b[0m\n",
      "\u001b[0;32m/opt/anaconda3/lib/python3.9/site-packages/scipy/optimize/__init__.py\u001b[0m in \u001b[0;36m<module>\u001b[0;34m\u001b[0m\n\u001b[1;32m    420\u001b[0m \u001b[0;32mfrom\u001b[0m \u001b[0;34m.\u001b[0m\u001b[0m_nnls\u001b[0m \u001b[0;32mimport\u001b[0m \u001b[0mnnls\u001b[0m\u001b[0;34m\u001b[0m\u001b[0;34m\u001b[0m\u001b[0m\n\u001b[1;32m    421\u001b[0m \u001b[0;32mfrom\u001b[0m \u001b[0;34m.\u001b[0m\u001b[0m_basinhopping\u001b[0m \u001b[0;32mimport\u001b[0m \u001b[0mbasinhopping\u001b[0m\u001b[0;34m\u001b[0m\u001b[0;34m\u001b[0m\u001b[0m\n\u001b[0;32m--> 422\u001b[0;31m \u001b[0;32mfrom\u001b[0m \u001b[0;34m.\u001b[0m\u001b[0m_linprog\u001b[0m \u001b[0;32mimport\u001b[0m \u001b[0mlinprog\u001b[0m\u001b[0;34m,\u001b[0m \u001b[0mlinprog_verbose_callback\u001b[0m\u001b[0;34m\u001b[0m\u001b[0;34m\u001b[0m\u001b[0m\n\u001b[0m\u001b[1;32m    423\u001b[0m \u001b[0;32mfrom\u001b[0m \u001b[0;34m.\u001b[0m\u001b[0m_lsap\u001b[0m \u001b[0;32mimport\u001b[0m \u001b[0mlinear_sum_assignment\u001b[0m\u001b[0;34m\u001b[0m\u001b[0;34m\u001b[0m\u001b[0m\n\u001b[1;32m    424\u001b[0m \u001b[0;32mfrom\u001b[0m \u001b[0;34m.\u001b[0m\u001b[0m_differentialevolution\u001b[0m \u001b[0;32mimport\u001b[0m \u001b[0mdifferential_evolution\u001b[0m\u001b[0;34m\u001b[0m\u001b[0;34m\u001b[0m\u001b[0m\n",
      "\u001b[0;32m/opt/anaconda3/lib/python3.9/site-packages/scipy/optimize/_linprog.py\u001b[0m in \u001b[0;36m<module>\u001b[0;34m\u001b[0m\n\u001b[1;32m     19\u001b[0m \u001b[0;32mfrom\u001b[0m \u001b[0;34m.\u001b[0m\u001b[0m_optimize\u001b[0m \u001b[0;32mimport\u001b[0m \u001b[0mOptimizeResult\u001b[0m\u001b[0;34m,\u001b[0m \u001b[0mOptimizeWarning\u001b[0m\u001b[0;34m\u001b[0m\u001b[0;34m\u001b[0m\u001b[0m\n\u001b[1;32m     20\u001b[0m \u001b[0;32mfrom\u001b[0m \u001b[0mwarnings\u001b[0m \u001b[0;32mimport\u001b[0m \u001b[0mwarn\u001b[0m\u001b[0;34m\u001b[0m\u001b[0;34m\u001b[0m\u001b[0m\n\u001b[0;32m---> 21\u001b[0;31m \u001b[0;32mfrom\u001b[0m \u001b[0;34m.\u001b[0m\u001b[0m_linprog_highs\u001b[0m \u001b[0;32mimport\u001b[0m \u001b[0m_linprog_highs\u001b[0m\u001b[0;34m\u001b[0m\u001b[0;34m\u001b[0m\u001b[0m\n\u001b[0m\u001b[1;32m     22\u001b[0m \u001b[0;32mfrom\u001b[0m \u001b[0;34m.\u001b[0m\u001b[0m_linprog_ip\u001b[0m \u001b[0;32mimport\u001b[0m \u001b[0m_linprog_ip\u001b[0m\u001b[0;34m\u001b[0m\u001b[0;34m\u001b[0m\u001b[0m\n\u001b[1;32m     23\u001b[0m \u001b[0;32mfrom\u001b[0m \u001b[0;34m.\u001b[0m\u001b[0m_linprog_simplex\u001b[0m \u001b[0;32mimport\u001b[0m \u001b[0m_linprog_simplex\u001b[0m\u001b[0;34m\u001b[0m\u001b[0;34m\u001b[0m\u001b[0m\n",
      "\u001b[0;32m/opt/anaconda3/lib/python3.9/site-packages/scipy/optimize/_linprog_highs.py\u001b[0m in \u001b[0;36m<module>\u001b[0;34m\u001b[0m\n\u001b[1;32m     18\u001b[0m \u001b[0;32mfrom\u001b[0m \u001b[0;34m.\u001b[0m\u001b[0m_optimize\u001b[0m \u001b[0;32mimport\u001b[0m \u001b[0mOptimizeWarning\u001b[0m\u001b[0;34m,\u001b[0m \u001b[0mOptimizeResult\u001b[0m\u001b[0;34m\u001b[0m\u001b[0;34m\u001b[0m\u001b[0m\n\u001b[1;32m     19\u001b[0m \u001b[0;32mfrom\u001b[0m \u001b[0mwarnings\u001b[0m \u001b[0;32mimport\u001b[0m \u001b[0mwarn\u001b[0m\u001b[0;34m\u001b[0m\u001b[0;34m\u001b[0m\u001b[0m\n\u001b[0;32m---> 20\u001b[0;31m \u001b[0;32mfrom\u001b[0m \u001b[0;34m.\u001b[0m\u001b[0m_highs\u001b[0m\u001b[0;34m.\u001b[0m\u001b[0m_highs_wrapper\u001b[0m \u001b[0;32mimport\u001b[0m \u001b[0m_highs_wrapper\u001b[0m\u001b[0;34m\u001b[0m\u001b[0;34m\u001b[0m\u001b[0m\n\u001b[0m\u001b[1;32m     21\u001b[0m from ._highs._highs_constants import (\n\u001b[1;32m     22\u001b[0m     \u001b[0mCONST_INF\u001b[0m\u001b[0;34m,\u001b[0m\u001b[0;34m\u001b[0m\u001b[0;34m\u001b[0m\u001b[0m\n",
      "\u001b[0;32m/opt/anaconda3/lib/python3.9/importlib/_bootstrap.py\u001b[0m in \u001b[0;36mparent\u001b[0;34m(self)\u001b[0m\n",
      "\u001b[0;31mKeyboardInterrupt\u001b[0m: "
     ]
    }
   ],
   "source": [
    "import numpy as np\n",
    "from moha.hamiltonians import HamRG, HamHeisenberg\n",
    "from pyscf import fci\n",
    "\n",
    "# Define the connectivity matrix\n",
    "connectivity = np.array([[1, 1, 1, 1],\n",
    "                         [1, 1, 1, 1],\n",
    "                         [1, 1, 1, 1],\n",
    "                         [1, 1, 1, 1]])\n",
    "\n",
    "# connectivity = np.array([[1, 1],\n",
    "#                          [1, 1]])\n",
    "\n",
    "\n",
    "# Define the Hamiltonian parameters\n",
    "J = -3\n",
    "J_eq = J * connectivity\n",
    "mu = J * np.ones(4)\n",
    "\n",
    "# Define the Hamiltonian\n",
    "ham = HamRG(J_eq=J_eq, mu=mu)\n",
    "e0 = ham.generate_zero_body_integral()\n",
    "\n",
    "h1 = ham.generate_one_body_integral(dense=True, basis='spatial basis')\n",
    "h2 = ham.generate_two_body_integral(dense=True, basis='spatial basis', sym=4)\n",
    "\n",
    "h2_ch = np.einsum('ijkl->ikjl', h2)\n",
    "\n",
    "\n",
    "n_sites = 4\n",
    "occ = (n_sites//2, n_sites//2)\n",
    "# e0 += -3 * 2/2\n",
    "\n",
    "e, ci = fci.direct_spin0.kernel(h1, 2*h2_ch, nelec=occ, norb=n_sites, nroots=6, ecore=e0)\n",
    "\n",
    "\n",
    "print(e, e0)\n",
    "\n",
    "# compute rdms\n",
    "rdm1, rdm2 = fci.direct_spin0.make_rdm12(ci[0], norb=n_sites, nelec=occ)\n",
    "\n",
    "# compute the repulsion energy\n",
    "E_rep = e[0] - np.sum(h1*rdm1)\n",
    "print(\"total energy: \", e)\n",
    "print(\"repulsion energy: \", E_rep)"
   ]
  },
  {
   "cell_type": "code",
   "execution_count": null,
   "metadata": {},
   "outputs": [
    {
     "data": {
      "text/plain": [
       "matrix([[0., 0., 0., 0.],\n",
       "        [0., 0., 0., 0.],\n",
       "        [0., 0., 0., 0.],\n",
       "        [0., 0., 0., 0.]])"
      ]
     },
     "execution_count": 2,
     "metadata": {},
     "output_type": "execute_result"
    }
   ],
   "source": [
    "h1"
   ]
  },
  {
   "cell_type": "code",
   "execution_count": null,
   "metadata": {},
   "outputs": [
    {
     "name": "stdout",
     "output_type": "stream",
     "text": [
      "0 0 0 0 :  -1.5\n",
      "0 0 1 1 :  -1.5\n",
      "0 0 2 2 :  -1.5\n",
      "0 0 3 3 :  -1.5\n",
      "1 1 0 0 :  -1.5\n",
      "1 1 1 1 :  -1.5\n",
      "1 1 2 2 :  -1.5\n",
      "1 1 3 3 :  -1.5\n",
      "2 2 0 0 :  -1.5\n",
      "2 2 1 1 :  -1.5\n",
      "2 2 2 2 :  -1.5\n",
      "2 2 3 3 :  -1.5\n",
      "3 3 0 0 :  -1.5\n",
      "3 3 1 1 :  -1.5\n",
      "3 3 2 2 :  -1.5\n",
      "3 3 3 3 :  -1.5\n",
      "one-body integral:  [[0. 0. 0. 0.]\n",
      " [0. 0. 0. 0.]\n",
      " [0. 0. 0. 0.]\n",
      " [0. 0. 0. 0.]]\n"
     ]
    }
   ],
   "source": [
    "for i, j, k, l in zip(*np.where(h2 != 0)):\n",
    "    elem = h2[i, j, k, l]\n",
    "    print(i, j, k, l,\": \", elem)\n",
    "\n",
    "print(\"one-body integral: \", h1)\n"
   ]
  },
  {
   "cell_type": "code",
   "execution_count": 4,
   "metadata": {},
   "outputs": [],
   "source": [
    "import ast\n",
    "with open('../rg_1dm/pf_63.dat') as f:\n",
    "    data = f.readlines()\n",
    "\n",
    "eps = ', '.join(data[0].split())\n",
    "eps = np.array(ast.literal_eval(eps))\n"
   ]
  },
  {
   "cell_type": "code",
   "execution_count": 12,
   "metadata": {},
   "outputs": [],
   "source": [
    "import re\n",
    "with open('../rg_1dm/pf_63.dat') as f:\n",
    "    data = f.read()\n",
    "\n",
    "parsed = []\n",
    "pattern = r\"BCS Energy:\\s*\\n(-?\\d+\\.\\d+)\\s+\\[([01](?:,\\s*[01])*)\\]\\s+(-?\\d+\\.\\d+)\"\n",
    "matches = re.findall(pattern, data)\n",
    "for g_str, occ_str, energy_str in matches:\n",
    "    g = float(g_str)\n",
    "    occupation = [int(x.strip()) for x in occ_str.split(',')]\n",
    "    energy = float(energy_str)\n",
    "    parsed.append((g, occupation, energy))\n",
    "\n",
    "with open('../rg_1dm/pf_63.dat') as f:\n",
    "    data = f.readlines()\n",
    "eps = ', '.join(data[0].split())\n",
    "eps = np.array(ast.literal_eval(eps))"
   ]
  },
  {
   "cell_type": "code",
   "execution_count": null,
   "metadata": {},
   "outputs": [
    {
     "name": "stdout",
     "output_type": "stream",
     "text": [
      "eps: [0. 1. 2. 3. 4. 5.]\n",
      "parsed data: [(-1000.0, [1, 1, 1, 0, 0, 0], 7.48795238), (-990.010101010101, [1, 1, 1, 0, 0, 0], 7.48783081), (-980.0202020202021, [1, 1, 1, 0, 0, 0], 7.48770677), (-970.030303030303, [1, 1, 1, 0, 0, 0], 7.48758017), (-960.040404040404, [1, 1, 1, 0, 0, 0], 7.48745093), (-950.0505050505051, [1, 1, 1, 0, 0, 0], 7.48731898), (-940.060606060606, [1, 1, 1, 0, 0, 0], 7.48718423), (-930.070707070707, [1, 1, 1, 0, 0, 0], 7.48704658), (-920.0808080808081, [1, 1, 1, 0, 0, 0], 7.48690594), (-910.0909090909091, [1, 1, 1, 0, 0, 0], 7.48676221)]\n"
     ]
    },
    {
     "name": "stderr",
     "output_type": "stream",
     "text": [
      "/var/folders/gf/7vfqp7nn2972hrcz727tkjkh0000gn/T/ipykernel_29648/405346563.py:3: VisibleDeprecationWarning: Creating an ndarray from ragged nested sequences (which is a list-or-tuple of lists-or-tuples-or ndarrays with different lengths or shapes) is deprecated. If you meant to do this, you must specify 'dtype=object' when creating the ndarray.\n",
      "  parsed = np.array(parsed)\n"
     ]
    }
   ],
   "source": [
    "print(\"eps:\", eps)\n",
    "print(\"parsed data:\", parsed[:10])\n",
    "parsed = np.array(parsed)\n",
    "mask_1 = [x[1] == [1, 1, 1, 0, 0, 0] for x in parsed]\n",
    "mask_2 = [x[0] > 0 for x in parsed]\n",
    "mask = np.logical_and(mask_1, mask_2)\n",
    "\n",
    "parsed_filtered = parsed[mask]\n"
   ]
  },
  {
   "cell_type": "code",
   "execution_count": 30,
   "metadata": {},
   "outputs": [
    {
     "name": "stdout",
     "output_type": "stream",
     "text": [
      "g: 0.001, energy: 2.99849907\n",
      "g: 0.10200000000000001, energy: 2.83648338\n",
      "g: 0.203, energy: 2.64993049\n",
      "g: 0.30400000000000005, energy: 2.43241813\n",
      "g: 0.405, energy: 2.17779335\n",
      "g: 0.506, energy: 1.88201527\n",
      "g: 0.6070000000000001, energy: 1.54451998\n",
      "g: 0.7080000000000001, energy: 1.16805883\n",
      "g: 0.809, energy: 0.75734879\n",
      "g: 0.91, energy: 0.31764826\n",
      "g: 1.011, energy: -0.14612126\n",
      "g: 1.1119999999999999, energy: -0.62972814\n",
      "g: 1.213, energy: -1.12968138\n",
      "g: 1.314, energy: -1.64315444\n",
      "g: 1.415, energy: -2.16787376\n",
      "g: 1.516, energy: -2.70201062\n",
      "g: 1.617, energy: -3.24408888\n",
      "g: 1.718, energy: -3.79291051\n",
      "g: 1.819, energy: -4.34749702\n",
      "g: 1.92, energy: -4.90704382\n",
      "g: 2.021, energy: -5.47088478\n",
      "g: 2.122, energy: -6.03846472\n",
      "g: 2.223, energy: -6.60931789\n",
      "g: 2.324, energy: -7.18305117\n",
      "g: 2.4250000000000003, energy: -7.75933071\n",
      "g: 2.5260000000000002, energy: -8.33787143\n",
      "g: 2.6270000000000002, energy: -8.9184286\n",
      "g: 2.728, energy: -9.50079104\n",
      "g: 2.829, energy: -10.08477566\n",
      "g: 2.93, energy: -10.670223\n",
      "g: 3.031, energy: -11.25699361\n",
      "g: 3.132, energy: -11.84496499\n",
      "g: 3.233, energy: -12.43402919\n",
      "g: 3.334, energy: -13.02409067\n",
      "g: 3.435, energy: -13.61506463\n",
      "g: 3.536, energy: -14.20687553\n",
      "g: 3.637, energy: -14.79945588\n",
      "g: 3.738, energy: -15.39274519\n",
      "g: 3.839, energy: -15.98668913\n",
      "g: 3.94, energy: -16.58123871\n",
      "g: 4.041, energy: -17.17634971\n",
      "g: 4.142, energy: -17.77198207\n",
      "g: 4.243, energy: -18.36809943\n",
      "g: 4.344, energy: -18.96466872\n",
      "g: 4.445, energy: -19.5616598\n",
      "g: 4.546, energy: -20.15904512\n",
      "g: 4.647, energy: -20.75679949\n",
      "g: 4.748, energy: -21.35489979\n",
      "g: 4.849000000000001, energy: -21.95332479\n",
      "g: 4.950000000000001, energy: -22.55205497\n",
      "g: 5.051000000000001, energy: -23.15107231\n",
      "g: 5.152000000000001, energy: -23.75036021\n",
      "g: 5.253000000000001, energy: -24.34990328\n",
      "g: 5.354000000000001, energy: -24.94968731\n",
      "g: 5.455000000000001, energy: -25.54969909\n",
      "g: 5.556000000000001, energy: -26.14992638\n",
      "g: 5.657000000000001, energy: -26.75035778\n",
      "g: 5.758000000000001, energy: -27.3509827\n",
      "g: 5.859000000000001, energy: -27.95179124\n",
      "g: 5.960000000000001, energy: -28.55277419\n",
      "g: 6.061000000000001, energy: -29.15392292\n",
      "g: 6.162000000000001, energy: -29.75522937\n",
      "g: 6.263000000000001, energy: -30.35668599\n",
      "g: 6.364000000000001, energy: -30.95828571\n",
      "g: 6.465000000000001, energy: -31.56002189\n",
      "g: 6.566000000000001, energy: -32.16188829\n",
      "g: 6.667000000000001, energy: -32.76387905\n",
      "g: 6.768000000000001, energy: -33.36598866\n",
      "g: 6.869000000000001, energy: -33.96821191\n",
      "g: 6.970000000000001, energy: -34.57054391\n",
      "g: 7.071000000000001, energy: -35.17298004\n",
      "g: 7.172000000000001, energy: -35.77551594\n",
      "g: 7.273000000000001, energy: -36.37814749\n",
      "g: 7.3740000000000006, energy: -36.98087077\n",
      "g: 7.4750000000000005, energy: -37.58368211\n",
      "g: 7.5760000000000005, energy: -38.186578\n",
      "g: 7.6770000000000005, energy: -38.78955514\n",
      "g: 7.7780000000000005, energy: -39.39261038\n",
      "g: 7.8790000000000004, energy: -39.99574073\n",
      "g: 7.98, energy: -40.59894337\n",
      "g: 8.081, energy: -41.2022156\n",
      "g: 8.182, energy: -41.80555486\n",
      "g: 8.283, energy: -42.40895871\n",
      "g: 8.384, energy: -43.01242483\n",
      "g: 8.485, energy: -43.61595101\n",
      "g: 8.586, energy: -44.21953515\n",
      "g: 8.687, energy: -44.82317524\n",
      "g: 8.788, energy: -45.42686934\n",
      "g: 8.889, energy: -46.03061564\n",
      "g: 8.99, energy: -46.63441239\n",
      "g: 9.091, energy: -47.2382579\n",
      "g: 9.192, energy: -47.84215059\n",
      "g: 9.293, energy: -48.44608892\n",
      "g: 9.394, energy: -49.05007142\n",
      "g: 9.495, energy: -49.65409669\n",
      "g: 9.596, energy: -50.25816339\n",
      "g: 9.697000000000001, energy: -50.86227024\n",
      "g: 9.798, energy: -51.46641598\n",
      "g: 9.899000000000001, energy: -52.07059944\n",
      "g: 10.0, energy: -52.67481948\n",
      "g: 11.0, energy: -58.65895524\n",
      "g: 20.98989898989899, energy: -118.52274783\n",
      "g: 30.97979797979798, energy: -178.43527022\n",
      "g: 40.96969696969697, energy: -238.36089369\n",
      "g: 50.95959595959596, energy: -298.29191532\n",
      "g: 60.94949494949495, energy: -358.2256812\n",
      "g: 70.93939393939394, energy: -418.16103207\n",
      "g: 80.92929292929293, energy: -478.09738105\n",
      "g: 90.91919191919192, energy: -538.03439914\n",
      "g: 100.9090909090909, energy: -597.97188762\n",
      "g: 110.8989898989899, energy: -657.90971939\n",
      "g: 120.88888888888889, energy: -717.84780933\n",
      "g: 130.87878787878788, energy: -777.78609834\n",
      "g: 140.86868686868686, energy: -837.72454406\n",
      "g: 150.85858585858585, energy: -897.66311537\n",
      "g: 160.84848484848484, energy: -957.60178885\n",
      "g: 170.83838383838383, energy: -1017.54054659\n",
      "g: 180.82828282828282, energy: -1077.47937463\n",
      "g: 190.8181818181818, energy: -1137.41826192\n",
      "g: 200.8080808080808, energy: -1197.35719961\n",
      "g: 210.7979797979798, energy: -1257.29618056\n",
      "g: 220.78787878787878, energy: -1317.23519887\n",
      "g: 230.77777777777777, energy: -1377.1742497\n",
      "g: 240.76767676767676, energy: -1437.11332901\n",
      "g: 250.75757575757575, energy: -1497.05243339\n",
      "g: 260.7474747474747, energy: -1556.99155995\n",
      "g: 270.73737373737373, energy: -1616.93070624\n",
      "g: 280.72727272727275, energy: -1676.86987016\n",
      "g: 290.7171717171717, energy: -1736.80904989\n",
      "g: 300.70707070707067, energy: -1796.74824385\n",
      "g: 310.6969696969697, energy: -1856.68745067\n",
      "g: 320.6868686868687, energy: -1916.62666915\n",
      "g: 330.67676767676767, energy: -1976.56589823\n",
      "g: 340.66666666666663, energy: -2036.50513698\n",
      "g: 350.65656565656565, energy: -2096.44438457\n",
      "g: 360.64646464646466, energy: -2156.38364027\n",
      "g: 370.6363636363636, energy: -2216.32290342\n",
      "g: 380.6262626262626, energy: -2276.26217344\n",
      "g: 390.6161616161616, energy: -2336.2014498\n",
      "g: 400.6060606060606, energy: -2396.14073201\n",
      "g: 410.5959595959596, energy: -2456.08001967\n",
      "g: 420.58585858585855, energy: -2516.01931238\n",
      "g: 430.57575757575756, energy: -2575.95860978\n",
      "g: 440.5656565656566, energy: -2635.89791156\n",
      "g: 450.55555555555554, energy: -2695.83721743\n",
      "g: 460.5454545454545, energy: -2755.77652711\n",
      "g: 470.5353535353535, energy: -2815.71584038\n",
      "g: 480.52525252525254, energy: -2875.655157\n",
      "g: 490.5151515151515, energy: -2935.59447677\n",
      "g: 500.50505050505046, energy: -2995.5337995\n",
      "g: 510.4949494949495, energy: -3055.47312501\n",
      "g: 520.4848484848485, energy: -3115.41245316\n",
      "g: 530.4747474747475, energy: -3175.35178378\n",
      "g: 540.4646464646464, energy: -3235.29111674\n",
      "g: 550.4545454545455, energy: -3295.23045192\n",
      "g: 560.4444444444445, energy: -3355.16978919\n",
      "g: 570.4343434343434, energy: -3415.10912844\n",
      "g: 580.4242424242424, energy: -3475.04846958\n",
      "g: 590.4141414141413, energy: -3534.98781251\n",
      "g: 600.4040404040404, energy: -3594.92715713\n",
      "g: 610.3939393939394, energy: -3654.86650336\n",
      "g: 620.3838383838383, energy: -3714.80585114\n",
      "g: 630.3737373737374, energy: -3774.74520037\n",
      "g: 640.3636363636364, energy: -3834.684551\n",
      "g: 650.3535353535353, energy: -3894.62390296\n",
      "g: 660.3434343434343, energy: -3954.5632562\n",
      "g: 670.3333333333333, energy: -4014.50261064\n",
      "g: 680.3232323232323, energy: -4074.44196625\n",
      "g: 690.3131313131313, energy: -4134.38132296\n",
      "g: 700.3030303030303, energy: -4194.32068074\n",
      "g: 710.2929292929293, energy: -4254.26003953\n",
      "g: 720.2828282828283, energy: -4314.1993993\n",
      "g: 730.2727272727273, energy: -4374.13876\n",
      "g: 740.2626262626262, energy: -4434.0781216\n",
      "g: 750.2525252525252, energy: -4494.01748406\n",
      "g: 760.2424242424242, energy: -4553.95684735\n",
      "g: 770.2323232323232, energy: -4613.89621144\n",
      "g: 780.2222222222222, energy: -4673.83557628\n",
      "g: 790.2121212121212, energy: -4733.77494187\n",
      "g: 800.2020202020202, energy: -4793.71430816\n",
      "g: 810.1919191919192, energy: -4853.65367513\n",
      "g: 820.1818181818181, energy: -4913.59304276\n",
      "g: 830.1717171717171, energy: -4973.53241103\n",
      "g: 840.1616161616162, energy: -5033.4717799\n",
      "g: 850.1515151515151, energy: -5093.41114937\n",
      "g: 860.1414141414141, energy: -5153.3505194\n",
      "g: 870.1313131313132, energy: -5213.28988998\n",
      "g: 880.1212121212121, energy: -5273.22926109\n",
      "g: 890.1111111111111, energy: -5333.16863271\n",
      "g: 900.10101010101, energy: -5393.10800483\n",
      "g: 910.090909090909, energy: -5453.04737743\n",
      "g: 920.0808080808081, energy: -5512.98675049\n",
      "g: 930.070707070707, energy: -5572.926124\n",
      "g: 940.060606060606, energy: -5632.86549795\n",
      "g: 950.0505050505051, energy: -5692.80487231\n",
      "g: 960.040404040404, energy: -5752.74424708\n",
      "g: 970.030303030303, energy: -5812.68362225\n",
      "g: 980.020202020202, energy: -5872.6229978\n",
      "g: 990.0101010101009, energy: -5932.56237372\n",
      "g: 1000.0, energy: -5992.50175\n"
     ]
    }
   ],
   "source": [
    "g_lst = parsed_filtered[:, 0]\n",
    "energy_lst = parsed_filtered[:, 2]\n",
    "\n",
    "for g, energy in zip(g_lst, energy_lst):\n",
    "    print(f\"g: {g}, energy: {energy}\")"
   ]
  },
  {
   "cell_type": "code",
   "execution_count": 1,
   "metadata": {},
   "outputs": [
    {
     "name": "stdout",
     "output_type": "stream",
     "text": [
      "[-3.24408888  0.93791546  1.52629165  1.52629165  2.30351616  2.30351616] -7.5\n",
      "total energy:  [-3.24408888  0.93791546  1.52629165  1.52629165  2.30351616  2.30351616]\n",
      "exact energy:  -3.24408888\n",
      "repulsion energy:  -8.735475966052606\n"
     ]
    }
   ],
   "source": [
    "import numpy as np\n",
    "from moha.hamiltonians import HamRG, HamHeisenberg\n",
    "from pyscf import fci\n",
    "\n",
    "# Define the connectivity matrix\n",
    "connectivity = np.array([[1, 1, 1, 1, 1, 1],\n",
    "                         [1, 1, 1, 1, 1, 1],\n",
    "                         [1, 1, 1, 1, 1, 1],\n",
    "                         [1, 1, 1, 1, 1, 1],\n",
    "                         [1, 1, 1, 1, 1, 1],\n",
    "                         [1, 1, 1, 1, 1, 1]])\n",
    "exact = -3.24408888\n",
    "g_pj = 1.617\n",
    "# Define the Hamiltonian parameters\n",
    "J = -g_pj / 2\n",
    "J_eq = J * connectivity\n",
    "\n",
    "eps = np.array([0., 1., 2., 3., 4., 5.])\n",
    "mu = eps + J\n",
    "# Define the Hamiltonian\n",
    "ham = HamRG(J_eq=J_eq, mu=mu)\n",
    "e0 = ham.generate_zero_body_integral()\n",
    "\n",
    "h1 = ham.generate_one_body_integral(dense=True, basis='spatial basis')\n",
    "h2 = ham.generate_two_body_integral(dense=True, basis='spatial basis', sym=4)\n",
    "\n",
    "h2_ch = np.einsum('ijkl->ikjl', h2)\n",
    "\n",
    "\n",
    "n_sites = 6\n",
    "occ = (n_sites//2, n_sites//2)\n",
    "# e0 += -3 * 2/2\n",
    "\n",
    "e, ci = fci.direct_spin0.kernel(1*h1, 2*h2_ch, nelec=occ, norb=n_sites, nroots=6, ecore=0)\n",
    "\n",
    "\n",
    "print(e, e0)\n",
    "\n",
    "# compute rdms\n",
    "rdm1, rdm2 = fci.direct_spin0.make_rdm12(ci[0], norb=n_sites, nelec=occ)\n",
    "\n",
    "# compute the repulsion energy\n",
    "E_rep = e[0] - np.sum(h1*rdm1)\n",
    "print(\"total energy: \", e)\n",
    "print(\"exact energy: \", exact)\n",
    "print(\"repulsion energy: \", E_rep)"
   ]
  },
  {
   "cell_type": "code",
   "execution_count": 81,
   "metadata": {},
   "outputs": [
    {
     "data": {
      "text/plain": [
       "-7.5"
      ]
     },
     "execution_count": 81,
     "metadata": {},
     "output_type": "execute_result"
    }
   ],
   "source": [
    "e0"
   ]
  },
  {
   "cell_type": "code",
   "execution_count": 80,
   "metadata": {},
   "outputs": [
    {
     "data": {
      "text/plain": [
       "array([-5.0000e-04,  9.9950e-01,  1.9995e+00,  2.9995e+00,  3.9995e+00,\n",
       "        4.9995e+00])"
      ]
     },
     "execution_count": 80,
     "metadata": {},
     "output_type": "execute_result"
    }
   ],
   "source": [
    "mu"
   ]
  },
  {
   "cell_type": "code",
   "execution_count": 78,
   "metadata": {},
   "outputs": [
    {
     "data": {
      "text/plain": [
       "matrix([[0. , 0. , 0. , 0. , 0. , 0. ],\n",
       "        [0. , 0.5, 0. , 0. , 0. , 0. ],\n",
       "        [0. , 0. , 1. , 0. , 0. , 0. ],\n",
       "        [0. , 0. , 0. , 1.5, 0. , 0. ],\n",
       "        [0. , 0. , 0. , 0. , 2. , 0. ],\n",
       "        [0. , 0. , 0. , 0. , 0. , 2.5]])"
      ]
     },
     "execution_count": 78,
     "metadata": {},
     "output_type": "execute_result"
    }
   ],
   "source": [
    "h1"
   ]
  },
  {
   "cell_type": "code",
   "execution_count": 79,
   "metadata": {},
   "outputs": [
    {
     "name": "stdout",
     "output_type": "stream",
     "text": [
      "0 0 0 0 :  -0.00025\n",
      "0 0 1 1 :  -0.00025\n",
      "0 0 2 2 :  -0.00025\n",
      "0 0 3 3 :  -0.00025\n",
      "0 0 4 4 :  -0.00025\n",
      "0 0 5 5 :  -0.00025\n",
      "1 1 0 0 :  -0.00025\n",
      "1 1 1 1 :  -0.00025\n",
      "1 1 2 2 :  -0.00025\n",
      "1 1 3 3 :  -0.00025\n",
      "1 1 4 4 :  -0.00025\n",
      "1 1 5 5 :  -0.00025\n",
      "2 2 0 0 :  -0.00025\n",
      "2 2 1 1 :  -0.00025\n",
      "2 2 2 2 :  -0.00025\n",
      "2 2 3 3 :  -0.00025\n",
      "2 2 4 4 :  -0.00025\n",
      "2 2 5 5 :  -0.00025\n",
      "3 3 0 0 :  -0.00025\n",
      "3 3 1 1 :  -0.00025\n",
      "3 3 2 2 :  -0.00025\n",
      "3 3 3 3 :  -0.00025\n",
      "3 3 4 4 :  -0.00025\n",
      "3 3 5 5 :  -0.00025\n",
      "4 4 0 0 :  -0.00025\n",
      "4 4 1 1 :  -0.00025\n",
      "4 4 2 2 :  -0.00025\n",
      "4 4 3 3 :  -0.00025\n",
      "4 4 4 4 :  -0.00025\n",
      "4 4 5 5 :  -0.00025\n",
      "5 5 0 0 :  -0.00025\n",
      "5 5 1 1 :  -0.00025\n",
      "5 5 2 2 :  -0.00025\n",
      "5 5 3 3 :  -0.00025\n",
      "5 5 4 4 :  -0.00025\n",
      "5 5 5 5 :  -0.00025\n"
     ]
    }
   ],
   "source": [
    "non_zero_indices = np.nonzero(h2)\n",
    "for i, j, k, l in zip(*non_zero_indices):\n",
    "    elem = h2[i, j, k, l]\n",
    "    print(i, j, k, l,\": \", elem)"
   ]
  }
 ],
 "metadata": {
  "kernelspec": {
   "display_name": "base",
   "language": "python",
   "name": "python3"
  },
  "language_info": {
   "codemirror_mode": {
    "name": "ipython",
    "version": 3
   },
   "file_extension": ".py",
   "mimetype": "text/x-python",
   "name": "python",
   "nbconvert_exporter": "python",
   "pygments_lexer": "ipython3",
   "version": "3.9.7"
  }
 },
 "nbformat": 4,
 "nbformat_minor": 2
}
