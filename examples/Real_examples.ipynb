{
 "cells": [
  {
   "cell_type": "markdown",
   "metadata": {},
   "source": [
    "# Tutorial: Benzene and Biphenyl\n",
    "\n",
    "## Introduction\n",
    "The Model Hamiltonian Package is a software tool designed to generate 0, 1, and 2 electron integrals for various quantum models. In this tutorial, we'll focus on generating integrals for the PPP model considering real organic molecules: Benzene and Biphenyl "
   ]
  },
  {
   "cell_type": "markdown",
   "metadata": {},
   "source": [
    "To do this, we are going to consider the most general occupation-number Hamiltonian we consider is the generalized Pariser-Parr-Pople (PPP) Hamiltonian, \n",
    "\n",
    "$$\\hat{H}_{\\text{PPP}} = \\sum_{pq} h_{pq} a_p^\\dagger a_q + \\sum_p U_p \\hat{n}_{p\\alpha}\\hat{n}_{p\\beta} + \\frac{1}{2}\\sum_{p\\ne q} \\gamma_{pq} (\\hat{n}_{p \\alpha} + \\hat{n}_{p \\beta} - Q_p)(\\hat{n}_{q \\alpha} + \\hat{n}_{q \\beta} - Q_q) $$\n"
   ]
  },
  {
   "cell_type": "markdown",
   "metadata": {},
   "source": [
    "## Example: Defining PPP Hamiltonian: Default values"
   ]
  },
  {
   "cell_type": "code",
   "execution_count": 2,
   "metadata": {},
   "outputs": [],
   "source": [
    "import sys\n",
    "sys.path.insert(0, '../')\n",
    "import numpy as np\n",
    "from moha import HamPPP\n",
    "\n",
    "# Define the benzene system with a 6-membered ring structure\n",
    "system = [('C1', 'C2', 1), ('C2', 'C3', 1),\n",
    "          ('C3', 'C4', 1), ('C4', 'C5', 1),\n",
    "          ('C5', 'C6', 1), ('C6', 'C1', 1)]\n",
    "\n",
    "# On-site Coulomb repulsion for each carbon atom in benzene\n",
    "u_onsite = np.array([10.0, 10.0, 10.0, 10.0, 10.0, 10.0])\n",
    "\n",
    "# Instantiate the Hamiltonian using the HamHub class\n",
    "ppp_hamiltonian = HamPPP(system, u_onsite=u_onsite)\n",
    "\n",
    "# Generate the one-body integral (Hamiltonian matrix)\n",
    "one_body_integral = ppp_hamiltonian.generate_one_body_integral(dense=True, basis='spatial basis')\n"
   ]
  }
 ],
 "metadata": {
  "kernelspec": {
   "display_name": "Python 3",
   "language": "python",
   "name": "python3"
  },
  "language_info": {
   "codemirror_mode": {
    "name": "ipython",
    "version": 3
   },
   "file_extension": ".py",
   "mimetype": "text/x-python",
   "name": "python",
   "nbconvert_exporter": "python",
   "pygments_lexer": "ipython3",
   "version": "3.10.11"
  }
 },
 "nbformat": 4,
 "nbformat_minor": 2
}
