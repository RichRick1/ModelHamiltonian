{
 "cells": [
  {
   "cell_type": "markdown",
   "metadata": {},
   "source": [
    "# Tutorial: Graphical User Interface (GUI) with ModelHamiltonian \n",
    "\n",
    "In this tutorial, we will learn how to use the GUI of the `ModelHamiltonian` package. The GUI is a graphical interface that allows you to interact with the package without having to write any code. First, we have to install the gui-subversion of package. To do this, we will use the following command:\n",
    "\n",
    "```bash\n",
    "git clone https://github.com/theochem/ModelHamiltonian.git\n",
    "cd ModelHamiltonian\n",
    "python3 -m pip install -e .[gui]\n",
    "```\n",
    "\n",
    "Once the installation is complete, we can run the GUI by executing the following command:\n",
    "\n",
    "```bash\n",
    "python3 -m moha/gui/moha_gui.py \n",
    "```"
   ]
  },
  {
   "cell_type": "markdown",
   "metadata": {},
   "source": [
    "The window shown below will appear:\n",
    "![img1](img/gui_1.png)"
   ]
  },
  {
   "cell_type": "markdown",
   "metadata": {},
   "source": [
    "This window has three main sections: the input section, the output section, and the control section. The input section is where you can input the parameters of the calculation. The output section is where the results of the calculation will be displayed. The control section is where you can start the calculation and save the results.\n",
    "\n",
    "In the input section `Molecule`, you can define the system with:\n",
    "- MOLFILE: The path to the molfile of the molecule.\n",
    "- SMILES: The SMILES representation of the molecule.\n",
    "\n",
    "In the control section `Model`, you can choose a model. Available options are:\n",
    "- `PPP`: Pariser-Parr-Pople model.\n",
    "- `Hubbard`: Hubbard model.\n",
    "- `Huckel`: Huckel model.\n",
    "- `Heisenberg`: XXZ Heisenberg model.\n",
    "- `Ising`: Ising model.\n",
    "- `RG`: Richardson-Gaudin model.\n",
    "\n",
    "In the output section, you can save the results of the calculation by clicking the `Save` button. \n",
    "\n",
    "Output file formats are:\n",
    "- `FCIDUMP`: The FCIDUMP file format is a standard file format for storing the Hamiltonian matrix of a quantum chemistry calculation.\n",
    "- `npz`: The npz file format is a standard file format for storing the Hamiltonian matrix of a quantum chemistry calculation.\n",
    "\n",
    "Results will be saved in the `outdir` directory under the name `prefix`."
   ]
  },
  {
   "cell_type": "markdown",
   "metadata": {},
   "source": [
    "## Example: Hubbard model from a SMILES string\n",
    "In this example, we will calculate the Hubbard model of a molecule using the SMILES string. We will use the SMILES string `C1=CC=CC=C1` to define the molecule. We will set the parameters of the Hubbard model as follows:\n",
    "- U = 1.0 Hartree\n",
    "- $\\alpha$ = -0.414 Hartree\n",
    "- $\\beta$ = -0.0533 Hartree\n",
    "\n",
    "To do this, we will follow these steps:\n",
    "1. In the `Molecule` section, set the `SMILES` field to `C1=CC=CC=C1`.\n",
    "2. In the `Model` section, select the `Hubbard` model.\n",
    "3. In the `Hubbard` section, set the `U` field to `1.0`, the `alpha` field to `-0.414`, and the `beta` field to `-0.0533`.\n",
    "4. Click the `Build Molecule` button to build the molecule.\n",
    "\n",
    "After following these steps, the output section will display the built system. You should see the following output:\n",
    "![img2](img/gui_2.png)"
   ]
  },
  {
   "cell_type": "markdown",
   "metadata": {},
   "source": [
    "Now, let's save ouput in the `FCIDUMP` format under a file name `hubbard_1.fcidump`. We can choose the output directory to be `results`.\n",
    "To do this, we will follow these steps:\n",
    "1. In the `Output` section, set the `Format` field to `FCIDUMP`.\n",
    "2. In the prefix field, set the prefix to `Hubbard_1`. Note that prefix isn't case sensitive. File name will be `hubbard_1.fcidump`.\n",
    "3. In the outdir field, set the outdir to `results`.\n",
    "\n",
    "After following these steps, the output section will display the build system. You should see the following output:\n",
    "![img3](img/gui_3.png)\n",
    "\n",
    "To save the results, click the `Save integrals` button. The results will be saved in the `results` directory under the name `hubbard_1.fcidump`. \n",
    "In order to quit the GUI, click the `Quit` button."
   ]
  },
  {
   "cell_type": "markdown",
   "metadata": {},
   "source": [
    "## Example: Ising model from a MOLFILE\n",
    "\n",
    "In this example, we will calculate the XXZ Heisenberg model of a molecule using the MOLFILE. We will use the MOLFILE `examples/mol/Fe8S7.mol` to define a system. This system has been used in the [paper](https://arxiv.org/abs/2203.15291) to study simulations of challenging correlated molecules and materials on the Sycamore quantum processor. We will set the parameters of the Ising model as follows:\n",
    "- $J_{ax}$ = 1.0 Hartree\n",
    "- $\\mu$ = -1.0 Hartree \n",
    "\n",
    "NOTE: Connectivity information from the MOLFILE is taked from the symbolic bonds in the MOLFILE.\n",
    "\n",
    "To do this, we will follow these steps:\n",
    "1. In the `Molecule` section, set the `MOFILE` field to `examples/mol/Fe8S7.mol`.\n",
    "2. In the `Model` section, select the `Ising` model.\n",
    "3. In the `Ising` section, set the `J_ax` field to `1.0`, and the `mu` field to `-1.0`.\n",
    "4. Click the `Build Molecule` button to build the molecule.\n",
    "\n",
    "After following these steps, the output section will display the built system. You should see the following output:\n",
    "![img4](img/gui_4.png)"
   ]
  },
  {
   "cell_type": "markdown",
   "metadata": {},
   "source": [
    "Now, let's save ouput in the `npz` format under a file name `ising_1.npz`. We can choose the output directory to be `results`.\n",
    "To do this, we will follow these steps:\n",
    "1. In the `Output` section, set the `Format` field to `npz`.\n",
    "2. In the prefix field, set the prefix to `Ising_1`. Note that prefix isn't case sensitive. File name will be `ising_1.npz`.\n",
    "3. In the outdir field, set the outdir to `results`.\n",
    "\n",
    "After following these steps, the output section will display the build system. You should see the following output:\n",
    "![img5](img/gui_5.png)\n",
    "\n",
    "To save the results, click the `Save integrals` button. The results will be saved in the `results` directory under the name `ising_1.npz`.\n",
    "In order to quit the GUI, click the `Quit` button."
   ]
  }
 ],
 "metadata": {
  "language_info": {
   "name": "python"
  }
 },
 "nbformat": 4,
 "nbformat_minor": 2
}
