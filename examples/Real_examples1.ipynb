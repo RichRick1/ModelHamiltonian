{
 "cells": [
  {
   "cell_type": "markdown",
   "metadata": {},
   "source": [
    "# Tutorial: Benzene and Biphenyl\n",
    "\n",
    "## Introduction\n",
    "In this tutorial, we'll focus on generating integrals for the PPP model considering real organic molecules: Benzene and Biphenyl "
   ]
  },
  {
   "cell_type": "markdown",
   "metadata": {},
   "source": [
    "To do this, we are going to consider the most general occupation-number Hamiltonian we consider is the generalized Pariser-Parr-Pople (PPP) Hamiltonian:\n",
    "\n",
    "$$\\hat{H}_{\\text{PPP}} = \\sum_{pq} h_{pq} a_p^\\dagger a_q + \\sum_p U_p \\hat{n}_{p\\alpha}\\hat{n}_{p\\beta} + \\frac{1}{2}\\sum_{p\\ne q} \\gamma_{pq} (\\hat{n}_{p \\alpha} + \\hat{n}_{p \\beta} - Q_p)(\\hat{n}_{q \\alpha} + \\hat{n}_{q \\beta} - Q_q) $$\n"
   ]
  },
  {
   "cell_type": "markdown",
   "metadata": {},
   "source": [
    "## Example: Defining PPP Hamiltonian\n",
    "\n",
    "In order to define a PPP hamiltonina, it's necessary to provide the parameter `gamma`. Performing a Full Configuration Iteraction of the hamiltonian, varying $\\beta$\n"
   ]
  },
  {
   "cell_type": "code",
   "execution_count": 29,
   "metadata": {},
   "outputs": [
    {
     "name": "stdout",
     "output_type": "stream",
     "text": [
      "65.30151\n",
      "Beta: 0.0, FCI Energy: -1.4210854715202004e-14\n",
      "65.30151\n",
      "Beta: -1.0, FCI Energy: -2.779514577625193\n",
      "65.30151\n",
      "Beta: -2.0, FCI Energy: -9.084603708594514\n",
      "65.30151\n",
      "Beta: -3.0, FCI Energy: -16.484889549995387\n",
      "65.30151\n",
      "Beta: -4.0, FCI Energy: -24.19501406479904\n",
      "65.30151\n",
      "Beta: -5.0, FCI Energy: -32.024692914537425\n"
     ]
    }
   ],
   "source": [
    "import sys \n",
    "sys.path.insert(0, '../')\n",
    "import numpy as np \n",
    "import sys \n",
    "import numpy as np \n",
    "from moha import HamPPP \n",
    "from pyscf import gto, scf, fci \n",
    "\n",
    "RXY = np.array([0.00504725, 0.09930802, 0.16008021])\n",
    " \n",
    "# Define the benzene system with a 6-membered ring structure \n",
    "system = [('C1', 'C2', 1), ('C2', 'C3', 1),  \n",
    "          ('C3', 'C4', 1), ('C4', 'C5', 1),  \n",
    "          ('C5', 'C6', 1), ('C6', 'C1', 1)] \n",
    "\n",
    "\n",
    "#Define U_onsite, alpha and gamma matrix \n",
    "u_onsite = np.array([10.84, 10.84, 10.84, 10.84, 10.84, 10.84])/2\n",
    "alpha = 0 \n",
    " \n",
    "# Define the gamma matrix here (example shape) \n",
    "norb = 6  # Number of orbitals for benzene (6 carbons) \n",
    "gamma_matrix = np.zeros((norb, norb))\n",
    "\n",
    "gamma_a_a1 = 5.27760 \n",
    "gamma_a_a2 = 3.86206 \n",
    "gamma_a_a3 = 3.48785 \n",
    " \n",
    "# Fill the matrix according to the given rules \n",
    "for a in range(norb): \n",
    "    gamma_matrix[a-1, a] = gamma_a_a1 \n",
    "    gamma_matrix[a-2, a] = gamma_a_a2 \n",
    "    gamma_matrix[a-3, a] = gamma_a_a3 \n",
    "     \n",
    "    gamma_matrix[a, a-1] = gamma_a_a1 \n",
    "    gamma_matrix[a, a-2] = gamma_a_a2 \n",
    "    gamma_matrix[a, a-3] = gamma_a_a3\n",
    "\n",
    "    gamma_matrix[a, a] = 10.84\n",
    "    \n",
    "gamma_lib = gamma_matrix - np.diag(np.diag(gamma_matrix))\n",
    "# Loop to vary beta from 0 to -5\n",
    "for beta in np.linspace(0, -5, num=6):\n",
    "    # Generate the PPP object\n",
    "    ppp_hamiltonian = HamPPP(system, alpha=alpha, beta=beta, u_onsite=u_onsite, gamma=gamma_lib, charges=np.array([1 for _ in range(6)]))\n",
    "    \n",
    "    # Generate the 0, 1, 2 body integral elements\n",
    "    e01 = ppp_hamiltonian.generate_zero_body_integral() \n",
    "    h11 = ppp_hamiltonian.generate_one_body_integral(dense=True, basis='spatial basis') \n",
    "    h2 = ppp_hamiltonian.generate_two_body_integral(dense=True, basis='spatial basis',sym = 4) \n",
    "    print(e01)\n",
    " \n",
    "    # Convert h2 to chemists notation \n",
    "    h21_ch = 1*np.transpose(h2, (0, 2, 1, 3)) \n",
    "    norb = h11.shape[0] \n",
    "    nelec = norb  # Assuming one electron per site  \n",
    "\n",
    "    # Perform the FCI calculation \n",
    "    e_fci, ci = fci.direct_spin1.kernel(1*h11, 2*h21_ch, norb, nelec, ecore=e01, nroots=1)\n",
    "    print(f'Beta: {beta}, FCI Energy: {e_fci}')\n"
   ]
  },
  {
   "cell_type": "markdown",
   "metadata": {},
   "source": [
    "# PPP Benzene: Building gamma\n",
    "\n",
    "\n",
    "MoHa package offers a functionality to compute `gamma` using the module `PariserParr` and the function `compute_gamma`. \n",
    "\n",
    "In order to do that, user can provide all the paramters of the function or let the library compute with the default values:\n",
    "\n",
    "* If user does not provide `U_xy`(potential energies for sites) or `R_xy`matrix with distances of the sites; Those values are going to be computed using the distances provided by `connectivity`, using the formulas below, based on the deafult values of `affinity_dct` and `atom_dict`:\n",
    "\n",
    "$$ U_x = \\alpha_x - A_x $$\n",
    "\n",
    "$$\n",
    "\\overline{U}_{XY} = \\frac{1}{2}(U_X + U_Y)\n",
    "$$\n",
    "\n",
    "User can also provide this dictionaries(affinity_dct` and `atom_dict`) to the function and proceed in the same way.\n",
    "\n",
    "\n",
    "Finally, `gamma` is computed using the formula:\n",
    "\n",
    "$$\n",
    "\\gamma_{XY} = \\frac{\\overline{U}_{XY}}{\\overline{U}_{XY} R_{XY} + e^{-\\frac{1}{2} \\overline{U}_{XY}^2 R_{XY}^2}}\n",
    "$$\n",
    "\n",
    "\n",
    "\n",
    "\n",
    "\n"
   ]
  },
  {
   "cell_type": "markdown",
   "metadata": {},
   "source": [
    "Defining the Benzene system following th same sttructure defined in the previous tutorials, we decide to move on with Full Configuration Iteraction of the hamiltonian, defining  `gamma`\n",
    "\n",
    "Varying $\\beta$ from 0 to -5, in this piece of code we prove that we can achieve the spectrum of energies reported in Bendazzoli et al."
   ]
  },
  {
   "cell_type": "code",
   "execution_count": 30,
   "metadata": {},
   "outputs": [
    {
     "name": "stdout",
     "output_type": "stream",
     "text": [
      "65.30151\n",
      "Beta: 0.0, FCI Energy: -1.4210854715202004e-14\n",
      "65.30151\n",
      "Beta: -1.0, FCI Energy: -2.779514577625193\n",
      "65.30151\n",
      "Beta: -2.0, FCI Energy: -9.084603708594514\n",
      "65.30151\n",
      "Beta: -3.0, FCI Energy: -16.484889549995387\n",
      "65.30151\n",
      "Beta: -4.0, FCI Energy: -24.19501406479904\n",
      "65.30151\n",
      "Beta: -5.0, FCI Energy: -32.024692914537425\n"
     ]
    }
   ],
   "source": [
    "import sys \n",
    "sys.path.insert(0, '../')\n",
    "import numpy as np \n",
    "import sys \n",
    "import numpy as np \n",
    "from moha import HamPPP \n",
    "from pyscf import gto, scf, fci \n",
    "\n",
    "RXY = np.array([0.00504725, 0.09930802, 0.16008021])\n",
    " \n",
    "# Define the benzene system with a 6-membered ring structure \n",
    "system = [('C1', 'C2', 1), ('C2', 'C3', 1),  \n",
    "          ('C3', 'C4', 1), ('C4', 'C5', 1),  \n",
    "          ('C5', 'C6', 1), ('C6', 'C1', 1)] \n",
    "\n",
    "\n",
    "#Define U_onsite, alpha and gamma matrix \n",
    "u_onsite = np.array([10.84, 10.84, 10.84, 10.84, 10.84, 10.84])/2\n",
    "alpha = 0 \n",
    " \n",
    "# Define the gamma matrix here (example shape) \n",
    "norb = 6  # Number of orbitals for benzene (6 carbons) \n",
    "gamma_matrix = np.zeros((norb, norb))\n",
    "\n",
    "gamma_a_a1 = 5.27760 \n",
    "gamma_a_a2 = 3.86206 \n",
    "gamma_a_a3 = 3.48785 \n",
    " \n",
    "# Fill the matrix according to the given rules \n",
    "for a in range(norb): \n",
    "    gamma_matrix[a-1, a] = gamma_a_a1 \n",
    "    gamma_matrix[a-2, a] = gamma_a_a2 \n",
    "    gamma_matrix[a-3, a] = gamma_a_a3 \n",
    "     \n",
    "    gamma_matrix[a, a-1] = gamma_a_a1 \n",
    "    gamma_matrix[a, a-2] = gamma_a_a2 \n",
    "    gamma_matrix[a, a-3] = gamma_a_a3\n",
    "\n",
    "    gamma_matrix[a, a] = 10.84\n",
    "    \n",
    "gamma_lib = gamma_matrix - np.diag(np.diag(gamma_matrix))\n",
    "# Loop to vary beta from 0 to -5\n",
    "for beta in np.linspace(0, -5, num=6):\n",
    "    # Generate the PPP object\n",
    "    ppp_hamiltonian = HamPPP(system, alpha=alpha, beta=beta, u_onsite=u_onsite, gamma=gamma_lib, charges=np.array([1 for _ in range(6)]))\n",
    "    \n",
    "    # Generate the 0, 1, 2 body integral elements\n",
    "    e01 = ppp_hamiltonian.generate_zero_body_integral() \n",
    "    h11 = ppp_hamiltonian.generate_one_body_integral(dense=True, basis='spatial basis') \n",
    "    h2 = ppp_hamiltonian.generate_two_body_integral(dense=True, basis='spatial basis',sym = 4) \n",
    "    print(e01)\n",
    " \n",
    "    # Convert h2 to chemists notation \n",
    "    h21_ch = 1*np.transpose(h2, (0, 2, 1, 3)) \n",
    "    norb = h11.shape[0] \n",
    "    nelec = norb  # Assuming one electron per site  \n",
    "\n",
    "    # Perform the FCI calculation \n",
    "    e_fci, ci = fci.direct_spin1.kernel(1*h11, 2*h21_ch, norb, nelec, ecore=e01, nroots=1)\n",
    "    print(f'Beta: {beta}, FCI Energy: {e_fci}')\n"
   ]
  },
  {
   "cell_type": "markdown",
   "metadata": {},
   "source": [
    "## Pariser Parr Atomic dictionary\n",
    "\n",
    "The previous approach requires to build the $\\gamma$ matrix directly, but MoHa package supports a method of computing the matrix based on the distance($R_{XY}$) beetween the atoms and the potential($U_{XY}$). \n",
    "\n",
    "\n",
    "If the value of `gamma` is not provided, it is computed using the formula:\n",
    "\n",
    "$$\n",
    "\\gamma_{XY} = \\frac{\\overline{U}_{XY}}{\\overline{U}_{XY} R_{XY} + e^{-\\frac{1}{2} \\overline{U}_{XY}^2 R_{XY}^2}}\n",
    "$$\n",
    "\n"
   ]
  },
  {
   "cell_type": "code",
   "execution_count": 31,
   "metadata": {},
   "outputs": [
    {
     "name": "stdout",
     "output_type": "stream",
     "text": [
      "Beta: 0.0, FCI Energy: 7.105427357601002e-15\n",
      "Beta: -1.0, FCI Energy: -2.950976576402695\n",
      "Beta: -2.0, FCI Energy: -9.425258557059209\n",
      "Beta: -3.0, FCI Energy: -16.75428207213497\n",
      "Beta: -4.0, FCI Energy: -24.36705165013518\n",
      "Beta: -5.0, FCI Energy: -32.1115278385854\n"
     ]
    }
   ],
   "source": [
    "import sys\n",
    "import numpy as np\n",
    "from moha import HamPPP\n",
    "from moha.rauk import PariserParr\n",
    "from pyscf import gto, scf, fci\n",
    "\n",
    "# Define the benzene system with a 6-membered ring structure\n",
    "\n",
    "system = [('C1', 'C2', 1), ('C2', 'C3', 1),  \n",
    "          ('C3', 'C4', 1), ('C4', 'C5', 1),  \n",
    "          ('C5', 'C6', 1), ('C6', 'C1', 1)] \n",
    "\n",
    "# Define the distances\n",
    "RXY = [0.00504725, 0.09930802, 0.16008021]\n",
    "\n",
    "# Build the adjacency matrix directly\n",
    "Rxy_matrix = np.array([\n",
    "    [0.0,        RXY[0],    RXY[1],    RXY[2],    RXY[1],    RXY[0]],\n",
    "    [RXY[0],    0.0,        RXY[0],    RXY[1],    RXY[2],    RXY[1]],\n",
    "    [RXY[1],    RXY[0],    0.0,        RXY[0],    RXY[1],    RXY[2]],\n",
    "    [RXY[2],    RXY[1],    RXY[0],    0.0,        RXY[0],    RXY[1]],\n",
    "    [RXY[1],    RXY[2],    RXY[1],    RXY[0],    0.0,        RXY[0]],\n",
    "    [RXY[0],    RXY[1],    RXY[2],    RXY[1],    RXY[0],    0.0]\n",
    "])\n",
    "\n",
    "u_onsite = np.array([10.84, 10.84, 10.84, 10.84, 10.84, 10.84]) / 2\n",
    "gamma_matrix = PariserParr.compute_gamma(system, U_xy=u_onsite, Rxy_matrix=Rxy_matrix)\n",
    "\n",
    "alpha = 0\n",
    "\n",
    "# Loop to vary beta from 0 to -5\n",
    "for beta in np.linspace(0, -5, num=6):\n",
    "    ppp_hamiltonian = HamPPP(system, alpha=alpha, gamma = gamma_matrix, beta=beta, u_onsite=u_onsite, charges=np.array([1 for _ in range(6)]))\n",
    "    \n",
    "    # Generate the 0, 1, 2 body integral elements\n",
    "    e0 = ppp_hamiltonian.generate_zero_body_integral() \n",
    "    h1 = ppp_hamiltonian.generate_one_body_integral(dense=True, basis='spatial basis') \n",
    "    h2 = ppp_hamiltonian.generate_two_body_integral(dense=True, basis='spatial basis', sym=4)\n",
    "    \n",
    "    # Convert h2 to chemists notation\n",
    "    h2_ch = np.transpose(h2, (0, 2, 1, 3))\n",
    "    norb = h1.shape[0]\n",
    "    nelec = norb  # Assuming one electron per site  \n",
    "\n",
    "    # Perform the FCI calculation\n",
    "    e_fci, ci = fci.direct_spin1.kernel(1*h1, 2*h2_ch, norb, nelec, ecore=e0, nroots=1)\n",
    "    print(f'Beta: {beta}, FCI Energy: {e_fci}')"
   ]
  },
  {
   "cell_type": "markdown",
   "metadata": {},
   "source": [
    "## Heteroatoms\n",
    "\n",
    "The ModelHamiotonian package also supports the possibility of using different type of atoms, using the Rauk’s table (RAUK, 2001).\n",
    "\n",
    "To do this, simply replace an atom of C with one of B.\n"
   ]
  },
  {
   "cell_type": "code",
   "execution_count": 32,
   "metadata": {},
   "outputs": [
    {
     "name": "stdout",
     "output_type": "stream",
     "text": [
      "Alpha: -0.414, Beta: -0.0533, FCI Energy: -5.468422237553814\n"
     ]
    }
   ],
   "source": [
    "import sys \n",
    "import numpy as np \n",
    "from moha import HamPPP \n",
    "from pyscf import gto, scf, fci \n",
    " \n",
    "# Define the benzene system with a 6-membered ring structure \n",
    "system = [('B1', 'C2', 1), ('C2', 'C3', 1),  \n",
    "          ('C3', 'C4', 1), ('C4', 'C5', 1),  \n",
    "          ('C5', 'C6', 1), ('C6', 'B1', 1)] \n",
    " \n",
    "u_onsite = np.array([10.84, 10.84, 10.84, 10.84, 10.84, 10.84]) / 2\n",
    "\n",
    "gamma_matrix = PariserParr.compute_gamma(system, U_xy=u_onsite)\n",
    " \n",
    "norb = 6  # Number of orbitals for benzene (6 carbons) \n",
    "ppp_hamiltonian = HamPPP(system, u_onsite=u_onsite, gamma=gamma_matrix, charges=np.array([1 for _ in range(6)]))\n",
    "\n",
    "e0 = ppp_hamiltonian.generate_zero_body_integral() \n",
    "h1 = ppp_hamiltonian.generate_one_body_integral(dense=True, basis='spatial basis') \n",
    "h2 = ppp_hamiltonian.generate_two_body_integral(dense=True, basis='spatial basis', sym=4) \n",
    " \n",
    "# Convert h2 to chemists notation \n",
    "h2_ch = np.transpose(h2, (0, 2, 1, 3)) \n",
    "norb = h1.shape[0] \n",
    "nelec = norb  # Assuming one electron per site  \n",
    "\n",
    "# Perform the FCI calculation \n",
    "e_fci, ci = fci.direct_spin1.kernel(h1, h2_ch, norb, nelec, ecore=e0, nroots=1)\n",
    "print(f'Alpha: {ppp_hamiltonian.alpha}, Beta: {ppp_hamiltonian.beta}, FCI Energy: {e_fci}')\n"
   ]
  },
  {
   "cell_type": "markdown",
   "metadata": {},
   "source": [
    "# References\n",
    "\n",
    "Bendazzoli, G. L., Evangelisti, S., & Gagliardi, L. (1994). Full configuration interaction study of the ground state of closed-shell cyclic PPP polyenes. International Journal of Quantum Chemistry, 51(1), 117-123. https://doi.org/10.1002/qua.560510104\n",
    "\n",
    "\n",
    "\n"
   ]
  }
 ],
 "metadata": {
  "kernelspec": {
   "display_name": "Python 3",
   "language": "python",
   "name": "python3"
  },
  "language_info": {
   "codemirror_mode": {
    "name": "ipython",
    "version": 3
   },
   "file_extension": ".py",
   "mimetype": "text/x-python",
   "name": "python",
   "nbconvert_exporter": "python",
   "pygments_lexer": "ipython3",
   "version": "3.10.12"
  }
 },
 "nbformat": 4,
 "nbformat_minor": 2
}
