{
 "cells": [
  {
   "cell_type": "markdown",
   "metadata": {},
   "source": [
    "# Tutorial for the Richardson-Gaudin model"
   ]
  },
  {
   "cell_type": "code",
   "execution_count": 73,
   "metadata": {},
   "outputs": [
    {
     "name": "stdout",
     "output_type": "stream",
     "text": [
      "[-1.80000000e+001 -6.00000000e+000 -2.75592582e-307] 0.0\n",
      "total energy:  [-1.80000000e+001 -6.00000000e+000 -2.75592582e-307]\n",
      "repulsion energy:  -17.999999999999986\n"
     ]
    }
   ],
   "source": [
    "import numpy as np\n",
    "from moha.hamiltonians import HamRG, HamHeisenberg\n",
    "from pyscf import fci\n",
    "\n",
    "# Define the connectivity matrix\n",
    "connectivity = np.array([[1, 1, 1, 1],\n",
    "                         [1, 1, 1, 1],\n",
    "                         [1, 1, 1, 1],\n",
    "                         [1, 1, 1, 1]])\n",
    "\n",
    "# connectivity = np.array([[1, 1],\n",
    "#                          [1, 1]])\n",
    "\n",
    "\n",
    "# Define the Hamiltonian parameters\n",
    "J = -3\n",
    "J_eq = J * connectivity\n",
    "mu = J * np.ones(4)\n",
    "\n",
    "# Define the Hamiltonian\n",
    "ham = HamRG(J_eq=J_eq, mu=mu)\n",
    "e0 = ham.generate_zero_body_integral()\n",
    "\n",
    "h1 = ham.generate_one_body_integral(dense=True, basis='spatial basis')\n",
    "h2 = ham.generate_two_body_integral(dense=True, basis='spatial basis', sym=4)\n",
    "\n",
    "h2_ch = np.einsum('ijkl->ikjl', h2)\n",
    "\n",
    "\n",
    "n_sites = 4\n",
    "occ = (n_sites//2, n_sites//2)\n",
    "# e0 += -3 * 2/2\n",
    "\n",
    "e, ci = fci.direct_spin0.kernel(h1, 2*h2_ch, nelec=occ, norb=n_sites, nroots=6, ecore=e0)\n",
    "\n",
    "\n",
    "print(e, e0)\n",
    "\n",
    "# compute rdms\n",
    "rdm1, rdm2 = fci.direct_spin0.make_rdm12(ci[0], norb=n_sites, nelec=occ)\n",
    "\n",
    "# compute the repulsion energy\n",
    "E_rep = e[0] - np.sum(h1*rdm1)\n",
    "print(\"total energy: \", e)\n",
    "print(\"repulsion energy: \", E_rep)"
   ]
  },
  {
   "cell_type": "code",
   "execution_count": 74,
   "metadata": {},
   "outputs": [
    {
     "data": {
      "text/plain": [
       "matrix([[0., 0., 0., 0.],\n",
       "        [0., 0., 0., 0.],\n",
       "        [0., 0., 0., 0.],\n",
       "        [0., 0., 0., 0.]])"
      ]
     },
     "execution_count": 74,
     "metadata": {},
     "output_type": "execute_result"
    }
   ],
   "source": [
    "h1"
   ]
  },
  {
   "cell_type": "code",
   "execution_count": 75,
   "metadata": {},
   "outputs": [
    {
     "name": "stdout",
     "output_type": "stream",
     "text": [
      "0 0 0 0 :  -1.5\n",
      "0 0 1 1 :  -1.5\n",
      "0 0 2 2 :  -1.5\n",
      "0 0 3 3 :  -1.5\n",
      "1 1 0 0 :  -1.5\n",
      "1 1 1 1 :  -1.5\n",
      "1 1 2 2 :  -1.5\n",
      "1 1 3 3 :  -1.5\n",
      "2 2 0 0 :  -1.5\n",
      "2 2 1 1 :  -1.5\n",
      "2 2 2 2 :  -1.5\n",
      "2 2 3 3 :  -1.5\n",
      "3 3 0 0 :  -1.5\n",
      "3 3 1 1 :  -1.5\n",
      "3 3 2 2 :  -1.5\n",
      "3 3 3 3 :  -1.5\n",
      "one-body integral:  [[0. 0. 0. 0.]\n",
      " [0. 0. 0. 0.]\n",
      " [0. 0. 0. 0.]\n",
      " [0. 0. 0. 0.]]\n"
     ]
    }
   ],
   "source": [
    "for i, j, k, l in zip(*np.where(h2 != 0)):\n",
    "    elem = h2[i, j, k, l]\n",
    "    print(i, j, k, l,\": \", elem)\n",
    "\n",
    "print(\"one-body integral: \", h1)\n"
   ]
  },
  {
   "cell_type": "code",
   "execution_count": 76,
   "metadata": {},
   "outputs": [
    {
     "data": {
      "text/plain": [
       "0.0"
      ]
     },
     "execution_count": 76,
     "metadata": {},
     "output_type": "execute_result"
    }
   ],
   "source": [
    "e0"
   ]
  }
 ],
 "metadata": {
  "kernelspec": {
   "display_name": "base",
   "language": "python",
   "name": "python3"
  },
  "language_info": {
   "codemirror_mode": {
    "name": "ipython",
    "version": 3
   },
   "file_extension": ".py",
   "mimetype": "text/x-python",
   "name": "python",
   "nbconvert_exporter": "python",
   "pygments_lexer": "ipython3",
   "version": "3.9.7"
  }
 },
 "nbformat": 4,
 "nbformat_minor": 2
}
